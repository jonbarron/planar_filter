{
  "nbformat": 4,
  "nbformat_minor": 0,
  "metadata": {
    "colab": {
      "name": "planar_filter.ipynb",
      "provenance": [],
      "collapsed_sections": [],
      "authorship_tag": "ABX9TyNtj810FNvcHH8gCXjIJTfZ",
      "include_colab_link": true
    },
    "kernelspec": {
      "name": "python3",
      "display_name": "Python 3"
    }
  },
  "cells": [
    {
      "cell_type": "markdown",
      "metadata": {
        "id": "view-in-github",
        "colab_type": "text"
      },
      "source": [
        "<a href=\"https://colab.research.google.com/github/jonbarron/planar_filter/blob/main/planar_filter.ipynb\" target=\"_parent\"><img src=\"https://colab.research.google.com/assets/colab-badge.svg\" alt=\"Open In Colab\"/></a>"
      ]
    },
    {
      "cell_type": "markdown",
      "metadata": {
        "id": "CjGhKZLDthj3"
      },
      "source": [
        "A reimplementation of the \"Planar Filter\" from Section 7.1 (Algorithms 1 and 2) of [Depth from motion for smartphone AR\n",
        "](https://research.google/pubs/pub48288/), Valentin et al., SIGGRAPH Asia 2018"
      ]
    },
    {
      "cell_type": "code",
      "metadata": {
        "id": "vjvpIdQxo918"
      },
      "source": [
        "import numpy as np\n",
        "import matplotlib.pyplot as plt"
      ],
      "execution_count": null,
      "outputs": []
    },
    {
      "cell_type": "code",
      "metadata": {
        "id": "uKrRdHtXwOWZ"
      },
      "source": [
        "def solve_image_ldl3(A11, A12, A13, A22, A23, A33, b1, b2, b3):\n",
        "  # An unrolled LDL solver for a 3x3 symmetric linear system.\n",
        "  d1 = A11\n",
        "  L12 = A12/d1\n",
        "  d2 = A22 - L12*A12\n",
        "  L13 = A13/d1\n",
        "  L23 = (A23 - L13*A12)/d2\n",
        "  d3 = A33 - L13*A13 - L23*L23*d2\n",
        "  y1 = b1\n",
        "  y2 = b2 - L12*y1\n",
        "  y3 = b3 - L13*y1 - L23*y2\n",
        "  x3 = y3/d3\n",
        "  x2 = y2/d2 - L23*x3\n",
        "  x1 = y1/d1 - L12*x2 - L13*x3\n",
        "  return x1, x2, x3\n",
        "\n",
        "def planar_filter(Z, filt, eps):\n",
        "  # Solve for the plane at each pixel in `Z`, where the plane fit is computed\n",
        "  # by using `filt` (a function that blurs something of the same size and shape\n",
        "  # as `Z` by taking a linear non-negative combination of inputs) to weight\n",
        "  # pixels in Z, and `eps` regularizes the output to be fronto-parallel.\n",
        "  # Returns (Zx, Zy, Zz), which is a plane parameterization for each pixel:\n",
        "  # the derivative wrt x and y, and the offset (which can itself be used as\n",
        "  # \"the\" filtered output).\n",
        "\n",
        "  # Note: This isn't the same code as in the paper. I flipped x and y to match\n",
        "  # a more pythonic (x, y) convention, and I had to flip a sign on the output\n",
        "  # slopes to make the unit tests pass(this may be a bug in the paper's math).\n",
        "  # Also, I decided to not regularize the \"offset\" component of the plane fit,\n",
        "  # which means that setting eps -> infinity gives the output (0, 0, filt(Z)).\n",
        "  xy_shape = np.array(Z.shape[-2:])\n",
        "  xy_scale = 2 / np.mean(xy_shape-1)  # Scaling the x, y coords to be in ~[0, 1]\n",
        "  x, y = np.meshgrid(*[(np.arange(s) - (s-1)/2) * xy_scale for s in xy_shape], indexing='ij')\n",
        "  [F1, Fx, Fy, Fz, Fxx, Fxy, Fxz, Fyy, Fyz] = [\n",
        "    filt(t) for t in [\n",
        "    np.ones_like(x), x, y, Z, x**2, x*y, x*Z, y**2, y*Z]]\n",
        "  A11 = F1*x**2 - 2*x*Fx + Fxx + eps**2\n",
        "  A22 = F1*y**2 - 2*y*Fy + Fyy + eps**2\n",
        "  A12 = F1*y*x - x*Fy - y*Fx + Fxy\n",
        "  A13 = F1*x - Fx\n",
        "  A23 = F1*y - Fy\n",
        "  A33 = F1# + eps**2\n",
        "  b1 = Fz*x - Fxz\n",
        "  b2 = Fz*y - Fyz\n",
        "  b3 = Fz\n",
        "  Zx, Zy, Zz = solve_image_ldl3(A11, A12, A13, A22, A23, A33, b1, b2, b3)\n",
        "  return -Zx*xy_scale, -Zy*xy_scale, Zz"
      ],
      "execution_count": null,
      "outputs": []
    },
    {
      "cell_type": "code",
      "metadata": {
        "id": "hpkhkvJ0Sf6o"
      },
      "source": [
        "# A simple linear blur filter. This can be whatever, provided it averages the\n",
        "# input images by averaging its inputs with non-negative weights.\n",
        "def blur(X, alpha):\n",
        "  # Do an exponential decay filter on the outermost two dimensions of X.\n",
        "  # Equivalent to convolving an image with a Laplacian blur.\n",
        "  Y = X.copy()\n",
        "  for i in range(Y.shape[-1]-1):\n",
        "    Y[...,i+1] += alpha * Y[...,i]\n",
        "\n",
        "  for i in range(Y.shape[-1]-1)[::-1]:\n",
        "    Y[...,i] += alpha * Y[...,i+1]\n",
        "\n",
        "  for i in range(Y.shape[-2]-1):\n",
        "    Y[...,i+1,:] += alpha * Y[...,i,:]\n",
        "\n",
        "  for i in range(Y.shape[-2]-1)[::-1]:\n",
        "    Y[...,i,:] += alpha * Y[...,i+1,:]\n",
        "  return Y"
      ],
      "execution_count": null,
      "outputs": []
    },
    {
      "cell_type": "code",
      "metadata": {
        "id": "20IQWVBJpY3r"
      },
      "source": [
        "# Test that planar_filter'ing correctly recovers planes on single images.\n",
        "np.random.seed(0)\n",
        "for i_test in range(10):\n",
        "\n",
        "  # Make a random plane.\n",
        "  x, y = np.meshgrid(range(int(32 + 32*np.random.uniform())), range(int(32 + 32*np.random.uniform())), indexing='ij')\n",
        "  sx, sy, shift = np.random.normal(size=(3))\n",
        "  Z_true = sx * x + sy * y + shift\n",
        "\n",
        "  # Mask out most of the pixels\n",
        "  mask = (np.mod(x, 4) == 0) & (np.mod(y, 4) == 0)\n",
        "  Z = mask * Z_true\n",
        "  W = np.float32(mask)\n",
        "\n",
        "  # Define a blur function.\n",
        "  alpha = 0.2\n",
        "  filt = lambda x : blur(x * W, alpha) / blur(W, alpha)\n",
        "\n",
        "  # normal filteirng, and planar_filter'ing\n",
        "  Zf = filt(Z)\n",
        "  Zx, Zy, Zz = planar_filter(Z, filt, 1e-4)\n",
        "\n",
        "  basic_max_error = np.max(np.abs(Zf - Z_true))\n",
        "  planar_max_error = np.max(np.abs(Zz - Z_true))\n",
        "  print(f'Errors = {basic_max_error:0.5f} | {planar_max_error:0.5f}')\n",
        "\n",
        "  # Plane fitting correctly recovers the true plane values.\n",
        "  assert(planar_max_error < 0.01)\n",
        "\n",
        "  # Plane fitting correctly recovers the slope of the plane.\n",
        "  assert(np.max(np.abs(np.median(Zx) - sx)) < 0.001)\n",
        "  assert(np.max(np.abs(np.median(Zy) - sy)) < 0.001)\n",
        "\n",
        "  # Setting `eps` -> infinity behaves as expected.\n",
        "  Zx0, Zy0, Zf_recon = planar_filter(Z, filt, 1e10)\n",
        "  assert(np.max(np.abs(Zx0)) < 0.001)\n",
        "  assert(np.max(np.abs(Zy0)) < 0.001)\n",
        "  assert(np.max(np.abs(Zf_recon - Zf)) < 0.001)\n",
        "\n",
        "  plt.figure(i_test)\n",
        "  _, ax = plt.subplots(1, 3, figsize=(12, 4))\n",
        "  ax[0].imshow(Zf)\n",
        "  ax[1].imshow(Zz)\n",
        "  ax[2].imshow(Z_true)"
      ],
      "execution_count": null,
      "outputs": []
    },
    {
      "cell_type": "code",
      "metadata": {
        "id": "AwB_xXKqUI4c"
      },
      "source": [
        "# Test that planar_filter'ing works correctly on batches of data.\n",
        "np.random.seed(0)\n",
        "x, y = np.meshgrid(range(32), range(48), indexing='ij')\n",
        "mask = (np.mod(x, 4) == 0) & (np.mod(y, 4) == 0)\n",
        "W = np.float32(mask)\n",
        "\n",
        "Zs = []\n",
        "Zs_true = []\n",
        "s_true = []\n",
        "for i_test in range(10):\n",
        "\n",
        "  sx, sy, shift = np.random.normal(size=(3))\n",
        "\n",
        "  Z_true = sx * x + sy * y + shift\n",
        "  Z = mask * Z_true\n",
        "\n",
        "  Zs_true.append(Z_true)\n",
        "  Zs.append(Z)\n",
        "  s_true.append((sx, sy, shift))\n",
        "\n",
        "Zs = np.stack(Zs, 0)\n",
        "Zs_true = np.stack(Zs_true, 0)\n",
        "\n",
        "alpha = 0.2\n",
        "filt = lambda x : blur(x * W, alpha) / blur(W, alpha)\n",
        "\n",
        "Zsf = filt(Zs)\n",
        "Zsx, Zsy, Zsz = planar_filter(Zs, filt, 1e-4)\n",
        "\n",
        "basic_max_error = np.max(np.abs(Zsf - Zs_true))\n",
        "planar_max_error = np.max(np.abs(Zsz - Zs_true))\n",
        "print(f'Errors = {basic_max_error:0.5f} | {planar_max_error:0.5f}')\n",
        "assert(planar_max_error < 0.01)\n",
        "\n",
        "assert np.all(np.abs(np.array([s[0] for s in s_true])[:,None,None] - Zsx) < 1e-3)\n",
        "assert np.all(np.abs(np.array([s[1] for s in s_true])[:,None,None] - Zsy) < 1e-3)\n",
        "\n",
        "Zsx0, Zsy0, Zsf_recon = planar_filter(Zs, filt, 1e10)\n",
        "assert(np.max(np.abs(Zsx0)) < 0.001)\n",
        "assert(np.max(np.abs(Zsy0)) < 0.001)\n",
        "assert(np.max(np.abs(Zsf_recon - Zsf)) < 0.001)\n",
        "\n",
        "plt.figure(figsize=(20,20))\n",
        "plt.imshow(np.concatenate([np.reshape(Zsf, [-1, Zsf.shape[-1]]), np.reshape(Zsz, [-1, Zsz.shape[-1]]), np.reshape(Zs_true, [-1, Zs_true.shape[-1]])], 1))"
      ],
      "execution_count": null,
      "outputs": []
    }
  ]
}